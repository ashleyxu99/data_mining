{
 "cells": [
  {
   "cell_type": "code",
   "execution_count": 29,
   "id": "ab357df6",
   "metadata": {},
   "outputs": [],
   "source": [
    "import pandas as pd"
   ]
  },
  {
   "cell_type": "code",
   "execution_count": 30,
   "id": "83c67180",
   "metadata": {},
   "outputs": [],
   "source": [
    "mnames = ['movie_id', 'movie_name']\n",
    "movies = pd.read_csv('data.csv', sep=')', skiprows=1, names=mnames, header=None, encoding='ISO-8859-1')"
   ]
  },
  {
   "cell_type": "code",
   "execution_count": 31,
   "id": "7d0f3fbf",
   "metadata": {},
   "outputs": [
    {
     "data": {
      "text/html": [
       "<div>\n",
       "<style scoped>\n",
       "    .dataframe tbody tr th:only-of-type {\n",
       "        vertical-align: middle;\n",
       "    }\n",
       "\n",
       "    .dataframe tbody tr th {\n",
       "        vertical-align: top;\n",
       "    }\n",
       "\n",
       "    .dataframe thead th {\n",
       "        text-align: right;\n",
       "    }\n",
       "</style>\n",
       "<table border=\"1\" class=\"dataframe\">\n",
       "  <thead>\n",
       "    <tr style=\"text-align: right;\">\n",
       "      <th></th>\n",
       "      <th>movie_id</th>\n",
       "      <th>movie_name</th>\n",
       "    </tr>\n",
       "  </thead>\n",
       "  <tbody>\n",
       "    <tr>\n",
       "      <th>100</th>\n",
       "      <td>102,Mr. Wrong (1996</td>\n",
       "      <td>,Comedy</td>\n",
       "    </tr>\n",
       "    <tr>\n",
       "      <th>101</th>\n",
       "      <td>103,Unforgettable (1996</td>\n",
       "      <td>,Thriller</td>\n",
       "    </tr>\n",
       "    <tr>\n",
       "      <th>102</th>\n",
       "      <td>104,Happy Gilmore (1996</td>\n",
       "      <td>,Comedy</td>\n",
       "    </tr>\n",
       "    <tr>\n",
       "      <th>103</th>\n",
       "      <td>105, Bridges of Madison County, The (1995</td>\n",
       "      <td>,Drama|Romance</td>\n",
       "    </tr>\n",
       "    <tr>\n",
       "      <th>104</th>\n",
       "      <td>106,Nobody Loves Me (Keiner liebt mich</td>\n",
       "      <td>(1994</td>\n",
       "    </tr>\n",
       "    <tr>\n",
       "      <th>...</th>\n",
       "      <td>...</td>\n",
       "      <td>...</td>\n",
       "    </tr>\n",
       "    <tr>\n",
       "      <th>215</th>\n",
       "      <td>217, Babysitter, The (1995</td>\n",
       "      <td>,Drama|Thriller</td>\n",
       "    </tr>\n",
       "    <tr>\n",
       "      <th>216</th>\n",
       "      <td>218,Boys on the Side (1995</td>\n",
       "      <td>,Comedy|Drama</td>\n",
       "    </tr>\n",
       "    <tr>\n",
       "      <th>217</th>\n",
       "      <td>219, Cure, The (1995</td>\n",
       "      <td>,Drama</td>\n",
       "    </tr>\n",
       "    <tr>\n",
       "      <th>218</th>\n",
       "      <td>220,Castle Freak (1995</td>\n",
       "      <td>,Horror</td>\n",
       "    </tr>\n",
       "    <tr>\n",
       "      <th>219</th>\n",
       "      <td>222,Circle of Friends (1995</td>\n",
       "      <td>,Drama|Romance</td>\n",
       "    </tr>\n",
       "  </tbody>\n",
       "</table>\n",
       "<p>120 rows × 2 columns</p>\n",
       "</div>"
      ],
      "text/plain": [
       "                                      movie_id        movie_name\n",
       "100                        102,Mr. Wrong (1996           ,Comedy\n",
       "101                    103,Unforgettable (1996         ,Thriller\n",
       "102                    104,Happy Gilmore (1996           ,Comedy\n",
       "103  105, Bridges of Madison County, The (1995    ,Drama|Romance\n",
       "104     106,Nobody Loves Me (Keiner liebt mich             (1994\n",
       "..                                         ...               ...\n",
       "215                 217, Babysitter, The (1995   ,Drama|Thriller\n",
       "216                 218,Boys on the Side (1995     ,Comedy|Drama\n",
       "217                       219, Cure, The (1995            ,Drama\n",
       "218                     220,Castle Freak (1995           ,Horror\n",
       "219                222,Circle of Friends (1995    ,Drama|Romance\n",
       "\n",
       "[120 rows x 2 columns]"
      ]
     },
     "execution_count": 31,
     "metadata": {},
     "output_type": "execute_result"
    }
   ],
   "source": [
    "movies[100:220]"
   ]
  },
  {
   "cell_type": "code",
   "execution_count": 23,
   "id": "91ebfb7d",
   "metadata": {},
   "outputs": [
    {
     "data": {
      "text/html": [
       "<div>\n",
       "<style scoped>\n",
       "    .dataframe tbody tr th:only-of-type {\n",
       "        vertical-align: middle;\n",
       "    }\n",
       "\n",
       "    .dataframe tbody tr th {\n",
       "        vertical-align: top;\n",
       "    }\n",
       "\n",
       "    .dataframe thead th {\n",
       "        text-align: right;\n",
       "    }\n",
       "</style>\n",
       "<table border=\"1\" class=\"dataframe\">\n",
       "  <thead>\n",
       "    <tr style=\"text-align: right;\">\n",
       "      <th></th>\n",
       "      <th>movie_id</th>\n",
       "      <th>year</th>\n",
       "      <th>name</th>\n",
       "      <th>genre</th>\n",
       "    </tr>\n",
       "  </thead>\n",
       "  <tbody>\n",
       "    <tr>\n",
       "      <th>0</th>\n",
       "      <td>1</td>\n",
       "      <td>1995</td>\n",
       "      <td>Toy Story</td>\n",
       "      <td>[Animation, Children's, Comedy]</td>\n",
       "    </tr>\n",
       "    <tr>\n",
       "      <th>1</th>\n",
       "      <td>2</td>\n",
       "      <td>1995</td>\n",
       "      <td>Jumanji</td>\n",
       "      <td>[Adventure, Children's, Fantasy]</td>\n",
       "    </tr>\n",
       "    <tr>\n",
       "      <th>2</th>\n",
       "      <td>3</td>\n",
       "      <td>1995</td>\n",
       "      <td>Grumpier Old Men</td>\n",
       "      <td>[Comedy, Romance]</td>\n",
       "    </tr>\n",
       "    <tr>\n",
       "      <th>3</th>\n",
       "      <td>4</td>\n",
       "      <td>1995</td>\n",
       "      <td>Waiting to Exhale</td>\n",
       "      <td>[Comedy, Drama]</td>\n",
       "    </tr>\n",
       "    <tr>\n",
       "      <th>4</th>\n",
       "      <td>5</td>\n",
       "      <td>1995</td>\n",
       "      <td>Father of the Bride Part II</td>\n",
       "      <td>[Comedy]</td>\n",
       "    </tr>\n",
       "  </tbody>\n",
       "</table>\n",
       "</div>"
      ],
      "text/plain": [
       "  movie_id  year                          name  \\\n",
       "0        1  1995                    Toy Story    \n",
       "1        2  1995                      Jumanji    \n",
       "2        3  1995             Grumpier Old Men    \n",
       "3        4  1995            Waiting to Exhale    \n",
       "4        5  1995  Father of the Bride Part II    \n",
       "\n",
       "                              genre  \n",
       "0   [Animation, Children's, Comedy]  \n",
       "1  [Adventure, Children's, Fantasy]  \n",
       "2                 [Comedy, Romance]  \n",
       "3                   [Comedy, Drama]  \n",
       "4                          [Comedy]  "
      ]
     },
     "execution_count": 23,
     "metadata": {},
     "output_type": "execute_result"
    }
   ],
   "source": [
    "movies[['movie_id','year']] = movies['movie_id'].str.split('(',expand=True, n=1)\n",
    "movies[['movie_id','name']] = movies['movie_id'].str.split(',',expand=True, n=1)\n",
    "movies = movies.replace(',','', regex=True)\n",
    "movies['genre']= movies['movie_name'].str.split('|')\n",
    "movies = movies.drop('movie_name', axis = 1)\n",
    "movies[:5]"
   ]
  },
  {
   "cell_type": "markdown",
   "id": "9a99eecd",
   "metadata": {},
   "source": [
    "1. An aggregate on the number of rating done for each particular genre, e.g., Action, Adventure, Drama, Science Fiction, .."
   ]
  },
  {
   "cell_type": "code",
   "execution_count": 24,
   "id": "0a2afe1c",
   "metadata": {},
   "outputs": [
    {
     "data": {
      "text/html": [
       "<div>\n",
       "<style scoped>\n",
       "    .dataframe tbody tr th:only-of-type {\n",
       "        vertical-align: middle;\n",
       "    }\n",
       "\n",
       "    .dataframe tbody tr th {\n",
       "        vertical-align: top;\n",
       "    }\n",
       "\n",
       "    .dataframe thead th {\n",
       "        text-align: right;\n",
       "    }\n",
       "</style>\n",
       "<table border=\"1\" class=\"dataframe\">\n",
       "  <thead>\n",
       "    <tr style=\"text-align: right;\">\n",
       "      <th></th>\n",
       "      <th>movie_id</th>\n",
       "      <th>year</th>\n",
       "      <th>name</th>\n",
       "      <th>genre</th>\n",
       "    </tr>\n",
       "  </thead>\n",
       "  <tbody>\n",
       "    <tr>\n",
       "      <th>0</th>\n",
       "      <td>1</td>\n",
       "      <td>1995</td>\n",
       "      <td>Toy Story</td>\n",
       "      <td>Animation</td>\n",
       "    </tr>\n",
       "    <tr>\n",
       "      <th>0</th>\n",
       "      <td>1</td>\n",
       "      <td>1995</td>\n",
       "      <td>Toy Story</td>\n",
       "      <td>Children's</td>\n",
       "    </tr>\n",
       "    <tr>\n",
       "      <th>0</th>\n",
       "      <td>1</td>\n",
       "      <td>1995</td>\n",
       "      <td>Toy Story</td>\n",
       "      <td>Comedy</td>\n",
       "    </tr>\n",
       "    <tr>\n",
       "      <th>1</th>\n",
       "      <td>2</td>\n",
       "      <td>1995</td>\n",
       "      <td>Jumanji</td>\n",
       "      <td>Adventure</td>\n",
       "    </tr>\n",
       "    <tr>\n",
       "      <th>1</th>\n",
       "      <td>2</td>\n",
       "      <td>1995</td>\n",
       "      <td>Jumanji</td>\n",
       "      <td>Children's</td>\n",
       "    </tr>\n",
       "    <tr>\n",
       "      <th>...</th>\n",
       "      <td>...</td>\n",
       "      <td>...</td>\n",
       "      <td>...</td>\n",
       "      <td>...</td>\n",
       "    </tr>\n",
       "    <tr>\n",
       "      <th>71</th>\n",
       "      <td>72</td>\n",
       "      <td>1995</td>\n",
       "      <td>Kicking and Screaming</td>\n",
       "      <td>Drama</td>\n",
       "    </tr>\n",
       "    <tr>\n",
       "      <th>72</th>\n",
       "      <td>73</td>\n",
       "      <td>1995</td>\n",
       "      <td>Misérables Les</td>\n",
       "      <td>Drama</td>\n",
       "    </tr>\n",
       "    <tr>\n",
       "      <th>72</th>\n",
       "      <td>73</td>\n",
       "      <td>1995</td>\n",
       "      <td>Misérables Les</td>\n",
       "      <td>Musical</td>\n",
       "    </tr>\n",
       "    <tr>\n",
       "      <th>73</th>\n",
       "      <td>74</td>\n",
       "      <td>1996</td>\n",
       "      <td>Bed of Roses</td>\n",
       "      <td>Drama</td>\n",
       "    </tr>\n",
       "    <tr>\n",
       "      <th>73</th>\n",
       "      <td>74</td>\n",
       "      <td>1996</td>\n",
       "      <td>Bed of Roses</td>\n",
       "      <td>Romance</td>\n",
       "    </tr>\n",
       "  </tbody>\n",
       "</table>\n",
       "<p>135 rows × 4 columns</p>\n",
       "</div>"
      ],
      "text/plain": [
       "   movie_id  year                    name       genre\n",
       "0         1  1995              Toy Story    Animation\n",
       "0         1  1995              Toy Story   Children's\n",
       "0         1  1995              Toy Story       Comedy\n",
       "1         2  1995                Jumanji    Adventure\n",
       "1         2  1995                Jumanji   Children's\n",
       "..      ...   ...                     ...         ...\n",
       "71       72  1995  Kicking and Screaming        Drama\n",
       "72       73  1995         Misérables Les        Drama\n",
       "72       73  1995         Misérables Les      Musical\n",
       "73       74  1996           Bed of Roses        Drama\n",
       "73       74  1996           Bed of Roses      Romance\n",
       "\n",
       "[135 rows x 4 columns]"
      ]
     },
     "execution_count": 24,
     "metadata": {},
     "output_type": "execute_result"
    }
   ],
   "source": [
    "\n",
    "flatdata = pd.DataFrame([( index, value) for ( index, values)\n",
    "                         in movies[ 'genre' ].iteritems() for value in values],\n",
    "                             columns = [ 'index', 'genre']).set_index( 'index' )\n",
    "  \n",
    "movies = movies.drop('genre', axis = 1 ).join(flatdata )\n",
    "movies[:135]"
   ]
  },
  {
   "cell_type": "code",
   "execution_count": 26,
   "id": "d70109fa",
   "metadata": {},
   "outputs": [
    {
     "data": {
      "text/plain": [
       "array(['Animation', \"Children's\", 'Comedy', 'Adventure', 'Fantasy',\n",
       "       'Romance', 'Drama', 'Action', 'Crime', 'Thriller', ' Comedy',\n",
       "       'Horror', 'Sci-Fi', ' Adventure', ' (1995', 'Documentary',\n",
       "       ' Drama', 'War', 'Musical', ' Crime', \" Children's\", ' (1994',\n",
       "       'Mystery', ' (1988', ' Horror', 'Film-Noir', ' Sci-Fi',\n",
       "       ' Documentary', ' (1964', ' Thriller', 'Western', ' Animation',\n",
       "       ' Action', ' (1992', ' (1993', ' Mystery', ' (1976', ' Western',\n",
       "       ' (1973', ' (1991', ' Romance', ' (1959', ' (1981', ' (1996',\n",
       "       ' (1987', ' (1982', ' (1968', ' (1990', ' Fantasy', ' (1956',\n",
       "       ' (1958', ' Musical', ' Film-Noir', ' (1950', ' (1930', '(1982',\n",
       "       ' (1986', ' (1942', ' (1979', ' (1989', ' (1957', ' (1985',\n",
       "       ' (1974', ' (1922', ' (1970', ' (1997', ' (1963',\n",
       "       ' (Shichinin no samurai', ' (1978', ' (1998', ' (1975', ' (1954',\n",
       "       ' (1984', ' (1962', ' (1977', ' (1965', ' War', ' (1961', ' (1919',\n",
       "       ' (1945', ' (1966', ' (1999', ' (1934', ' (1948', ' (1971',\n",
       "       ' (1937', ' (1960', ' (1949', ' (1972', ' (1931', ' (1980',\n",
       "       ' (1925', ' (2000', ' (1969'], dtype=object)"
      ]
     },
     "execution_count": 26,
     "metadata": {},
     "output_type": "execute_result"
    }
   ],
   "source": [
    "movies['genre'].unique()"
   ]
  },
  {
   "cell_type": "code",
   "execution_count": 27,
   "id": "ebd0a21e",
   "metadata": {},
   "outputs": [
    {
     "data": {
      "text/plain": [
       "1144"
      ]
     },
     "execution_count": 27,
     "metadata": {},
     "output_type": "execute_result"
    }
   ],
   "source": [
    "len(movies[movies['genre'].str.contains('Comedy')])"
   ]
  },
  {
   "cell_type": "code",
   "execution_count": 28,
   "id": "25474bb7",
   "metadata": {},
   "outputs": [
    {
     "data": {
      "text/plain": [
       "1430"
      ]
     },
     "execution_count": 28,
     "metadata": {},
     "output_type": "execute_result"
    }
   ],
   "source": [
    "len(movies[movies['genre'].str.contains('Drama')])"
   ]
  },
  {
   "cell_type": "code",
   "execution_count": null,
   "id": "a99d2742",
   "metadata": {},
   "outputs": [],
   "source": []
  }
 ],
 "metadata": {
  "kernelspec": {
   "display_name": "Python 3 (ipykernel)",
   "language": "python",
   "name": "python3"
  },
  "language_info": {
   "codemirror_mode": {
    "name": "ipython",
    "version": 3
   },
   "file_extension": ".py",
   "mimetype": "text/x-python",
   "name": "python",
   "nbconvert_exporter": "python",
   "pygments_lexer": "ipython3",
   "version": "3.9.1"
  }
 },
 "nbformat": 4,
 "nbformat_minor": 5
}
