{
 "cells": [
  {
   "cell_type": "markdown",
   "id": "eb713ee5",
   "metadata": {},
   "source": [
    "# Assignment 2: Exploring Data with Pandas\n",
    "Student Name: Wen Xie"
   ]
  },
  {
   "cell_type": "code",
   "execution_count": 8,
   "id": "d166b28b",
   "metadata": {},
   "outputs": [],
   "source": [
    "%matplotlib inline\n",
    "import warnings\n",
    "warnings.filterwarnings('ignore')"
   ]
  },
  {
   "cell_type": "code",
   "execution_count": 9,
   "id": "8f8a561d",
   "metadata": {},
   "outputs": [],
   "source": [
    "import pandas as pd\n",
    "import numpy as np"
   ]
  },
  {
   "cell_type": "markdown",
   "id": "c84ed3a7",
   "metadata": {},
   "source": [
    "# Iris Dataset"
   ]
  },
  {
   "cell_type": "code",
   "execution_count": 48,
   "id": "9b47d5a3",
   "metadata": {},
   "outputs": [
    {
     "data": {
      "text/html": [
       "<div>\n",
       "<style scoped>\n",
       "    .dataframe tbody tr th:only-of-type {\n",
       "        vertical-align: middle;\n",
       "    }\n",
       "\n",
       "    .dataframe tbody tr th {\n",
       "        vertical-align: top;\n",
       "    }\n",
       "\n",
       "    .dataframe thead th {\n",
       "        text-align: right;\n",
       "    }\n",
       "</style>\n",
       "<table border=\"1\" class=\"dataframe\">\n",
       "  <thead>\n",
       "    <tr style=\"text-align: right;\">\n",
       "      <th></th>\n",
       "      <th>0</th>\n",
       "      <th>1</th>\n",
       "      <th>2</th>\n",
       "      <th>3</th>\n",
       "      <th>4</th>\n",
       "    </tr>\n",
       "  </thead>\n",
       "  <tbody>\n",
       "    <tr>\n",
       "      <th>0</th>\n",
       "      <td>5.1</td>\n",
       "      <td>3.5</td>\n",
       "      <td>1.4</td>\n",
       "      <td>0.2</td>\n",
       "      <td>Iris-setosa</td>\n",
       "    </tr>\n",
       "    <tr>\n",
       "      <th>1</th>\n",
       "      <td>4.9</td>\n",
       "      <td>3.0</td>\n",
       "      <td>1.4</td>\n",
       "      <td>0.2</td>\n",
       "      <td>Iris-setosa</td>\n",
       "    </tr>\n",
       "    <tr>\n",
       "      <th>2</th>\n",
       "      <td>4.7</td>\n",
       "      <td>3.2</td>\n",
       "      <td>1.3</td>\n",
       "      <td>0.2</td>\n",
       "      <td>Iris-setosa</td>\n",
       "    </tr>\n",
       "    <tr>\n",
       "      <th>3</th>\n",
       "      <td>4.6</td>\n",
       "      <td>3.1</td>\n",
       "      <td>1.5</td>\n",
       "      <td>0.2</td>\n",
       "      <td>Iris-setosa</td>\n",
       "    </tr>\n",
       "    <tr>\n",
       "      <th>4</th>\n",
       "      <td>5.0</td>\n",
       "      <td>3.6</td>\n",
       "      <td>1.4</td>\n",
       "      <td>0.2</td>\n",
       "      <td>Iris-setosa</td>\n",
       "    </tr>\n",
       "    <tr>\n",
       "      <th>...</th>\n",
       "      <td>...</td>\n",
       "      <td>...</td>\n",
       "      <td>...</td>\n",
       "      <td>...</td>\n",
       "      <td>...</td>\n",
       "    </tr>\n",
       "    <tr>\n",
       "      <th>145</th>\n",
       "      <td>6.7</td>\n",
       "      <td>3.0</td>\n",
       "      <td>5.2</td>\n",
       "      <td>2.3</td>\n",
       "      <td>Iris-virginica</td>\n",
       "    </tr>\n",
       "    <tr>\n",
       "      <th>146</th>\n",
       "      <td>6.3</td>\n",
       "      <td>2.5</td>\n",
       "      <td>5.0</td>\n",
       "      <td>1.9</td>\n",
       "      <td>Iris-virginica</td>\n",
       "    </tr>\n",
       "    <tr>\n",
       "      <th>147</th>\n",
       "      <td>6.5</td>\n",
       "      <td>3.0</td>\n",
       "      <td>5.2</td>\n",
       "      <td>2.0</td>\n",
       "      <td>Iris-virginica</td>\n",
       "    </tr>\n",
       "    <tr>\n",
       "      <th>148</th>\n",
       "      <td>6.2</td>\n",
       "      <td>3.4</td>\n",
       "      <td>5.4</td>\n",
       "      <td>2.3</td>\n",
       "      <td>Iris-virginica</td>\n",
       "    </tr>\n",
       "    <tr>\n",
       "      <th>149</th>\n",
       "      <td>5.9</td>\n",
       "      <td>3.0</td>\n",
       "      <td>5.1</td>\n",
       "      <td>1.8</td>\n",
       "      <td>Iris-virginica</td>\n",
       "    </tr>\n",
       "  </tbody>\n",
       "</table>\n",
       "<p>150 rows × 5 columns</p>\n",
       "</div>"
      ],
      "text/plain": [
       "       0    1    2    3               4\n",
       "0    5.1  3.5  1.4  0.2     Iris-setosa\n",
       "1    4.9  3.0  1.4  0.2     Iris-setosa\n",
       "2    4.7  3.2  1.3  0.2     Iris-setosa\n",
       "3    4.6  3.1  1.5  0.2     Iris-setosa\n",
       "4    5.0  3.6  1.4  0.2     Iris-setosa\n",
       "..   ...  ...  ...  ...             ...\n",
       "145  6.7  3.0  5.2  2.3  Iris-virginica\n",
       "146  6.3  2.5  5.0  1.9  Iris-virginica\n",
       "147  6.5  3.0  5.2  2.0  Iris-virginica\n",
       "148  6.2  3.4  5.4  2.3  Iris-virginica\n",
       "149  5.9  3.0  5.1  1.8  Iris-virginica\n",
       "\n",
       "[150 rows x 5 columns]"
      ]
     },
     "execution_count": 48,
     "metadata": {},
     "output_type": "execute_result"
    }
   ],
   "source": [
    "iris_data = pd.read_table('iris.data', sep = ',', header = None, engine = 'python')\n",
    "sepal_length = iris_data[0]\n",
    "sepal_width = iris_data[1]\n",
    "petal_length = iris_data[2]\n",
    "petal_width = iris_data[3]\n",
    "iris_class = iris_data[4]\n",
    "iris_data"
   ]
  },
  {
   "cell_type": "markdown",
   "id": "058ebda6",
   "metadata": {},
   "source": [
    "1.1 Summary Statistics [10 Points]\n",
    "Compute and display summary statistics for each feature available in the dataset. These must include the minimum value, maximum value, mean, range, standard deviation, variance, count, and 25:50:75% percentiles."
   ]
  },
  {
   "cell_type": "markdown",
   "id": "d447d328",
   "metadata": {},
   "source": [
    "minimum value, maximum value, mean, standard deviation, count, and 25:50:75% percentiles"
   ]
  },
  {
   "cell_type": "code",
   "execution_count": 24,
   "id": "b826b33a",
   "metadata": {},
   "outputs": [
    {
     "data": {
      "text/plain": [
       "count    150.000000\n",
       "mean       5.843333\n",
       "std        0.828066\n",
       "min        4.300000\n",
       "25%        5.100000\n",
       "50%        5.800000\n",
       "75%        6.400000\n",
       "max        7.900000\n",
       "Name: 0, dtype: float64"
      ]
     },
     "execution_count": 24,
     "metadata": {},
     "output_type": "execute_result"
    }
   ],
   "source": [
    "sepal_length.describe()"
   ]
  },
  {
   "cell_type": "code",
   "execution_count": 27,
   "id": "24c329fd",
   "metadata": {},
   "outputs": [
    {
     "data": {
      "text/plain": [
       "count    150.000000\n",
       "mean       3.054000\n",
       "std        0.433594\n",
       "min        2.000000\n",
       "25%        2.800000\n",
       "50%        3.000000\n",
       "75%        3.300000\n",
       "max        4.400000\n",
       "Name: 1, dtype: float64"
      ]
     },
     "execution_count": 27,
     "metadata": {},
     "output_type": "execute_result"
    }
   ],
   "source": [
    "sepal_width.describe()"
   ]
  },
  {
   "cell_type": "code",
   "execution_count": 28,
   "id": "b63afe7b",
   "metadata": {},
   "outputs": [
    {
     "data": {
      "text/plain": [
       "count    150.000000\n",
       "mean       3.758667\n",
       "std        1.764420\n",
       "min        1.000000\n",
       "25%        1.600000\n",
       "50%        4.350000\n",
       "75%        5.100000\n",
       "max        6.900000\n",
       "Name: 2, dtype: float64"
      ]
     },
     "execution_count": 28,
     "metadata": {},
     "output_type": "execute_result"
    }
   ],
   "source": [
    "petal_length.describe()"
   ]
  },
  {
   "cell_type": "code",
   "execution_count": 29,
   "id": "21757683",
   "metadata": {},
   "outputs": [
    {
     "data": {
      "text/plain": [
       "count    150.000000\n",
       "mean       1.198667\n",
       "std        0.763161\n",
       "min        0.100000\n",
       "25%        0.300000\n",
       "50%        1.300000\n",
       "75%        1.800000\n",
       "max        2.500000\n",
       "Name: 3, dtype: float64"
      ]
     },
     "execution_count": 29,
     "metadata": {},
     "output_type": "execute_result"
    }
   ],
   "source": [
    "petal_width.describe()"
   ]
  },
  {
   "cell_type": "markdown",
   "id": "ca53adf6",
   "metadata": {},
   "source": [
    "range"
   ]
  },
  {
   "cell_type": "code",
   "execution_count": 70,
   "id": "8cbd62c4",
   "metadata": {},
   "outputs": [
    {
     "name": "stdout",
     "output_type": "stream",
     "text": [
      "RANGE(sepal_length) = 3.6000000000000005\t\t\tRANGE(sepal_width) = 2.4000000000000004\n",
      "\n",
      "RANGE(petal_length) = 5.9\t\t\t\t\tRANGE(petal_width) = 2.4\n",
      "\n"
     ]
    }
   ],
   "source": [
    "print ('RANGE(sepal_length) = ' + str(np.ptp(sepal_length)) + '\\t\\t\\tRANGE(sepal_width) = ' + str(ptp(sepal_width)) + '\\n') \n",
    "print ('RANGE(petal_length) = ' + str(np.ptp(petal_length)) + '\\t\\t\\t\\t\\tRANGE(petal_width) = ' + str(ptp(petal_width)) + '\\n') "
   ]
  },
  {
   "cell_type": "markdown",
   "id": "c49cc9e7",
   "metadata": {},
   "source": [
    "variance"
   ]
  },
  {
   "cell_type": "code",
   "execution_count": 68,
   "id": "13d58900",
   "metadata": {},
   "outputs": [
    {
     "name": "stdout",
     "output_type": "stream",
     "text": [
      "VARIANCE(sepal_length) = 0.6856935123042507\tVARIANCE(sepal_width) = 0.1880040268456376\n",
      "\n",
      "VARIANCE(petal_length) = 3.113179418344519\tVARIANCE(petal_width) = 0.582414317673378\n",
      "\n"
     ]
    }
   ],
   "source": [
    "print ('VARIANCE(sepal_length) = ' + str(sepal_length.var()) + '\\tVARIANCE(sepal_width) = ' + str(sepal_width.var()) + '\\n') \n",
    "print ('VARIANCE(petal_length) = ' + str(petal_length.var()) + '\\tVARIANCE(petal_width) = ' + str(petal_width.var()) + '\\n') "
   ]
  },
  {
   "cell_type": "markdown",
   "id": "4f17c116",
   "metadata": {},
   "source": [
    "1.2 Data Visualization [25 Points]\n",
    "\n",
    "Histograms: To illustrate the feature distributions, create a histogram for each feature in the dataset. You may plot each histogram individually or combine them all into a single plot. When generating histograms for this assignment, use the default number of bins. Recall that a histogram provides a graphical representation of the distribution of the data."
   ]
  },
  {
   "cell_type": "code",
   "execution_count": 30,
   "id": "dfaaff28",
   "metadata": {},
   "outputs": [
    {
     "data": {
      "image/png": "[encoded data removed]",
      "text/plain": [
       "<Figure size 432x288 with 1 Axes>"
      ]
     },
     "metadata": {
      "needs_background": "light"
     },
     "output_type": "display_data"
    }
   ],
   "source": [
    "sepal_length_hist = sepal_length.hist()"
   ]
  },
  {
   "cell_type": "code",
   "execution_count": 31,
   "id": "83903e58",
   "metadata": {},
   "outputs": [
    {
     "data": {
      "image/png": "[encoded data removed]",
      "text/plain": [
       "<Figure size 432x288 with 1 Axes>"
      ]
     },
     "metadata": {
      "needs_background": "light"
     },
     "output_type": "display_data"
    }
   ],
   "source": [
    "sepal_width_hist = sepal_width.hist()"
   ]
  },
  {
   "cell_type": "code",
   "execution_count": 32,
   "id": "800eb57e",
   "metadata": {},
   "outputs": [
    {
     "data": {
      "image/png": "[encoded data removed]",
      "text/plain": [
       "<Figure size 432x288 with 1 Axes>"
      ]
     },
     "metadata": {
      "needs_background": "light"
     },
     "output_type": "display_data"
    }
   ],
   "source": [
    "petal_length_hist = petal_length.hist()"
   ]
  },
  {
   "cell_type": "code",
   "execution_count": 33,
   "id": "c9cdb0fb",
   "metadata": {},
   "outputs": [
    {
     "data": {
      "image/png": "[encoded data removed]",
      "text/plain": [
       "<Figure size 432x288 with 1 Axes>"
      ]
     },
     "metadata": {
      "needs_background": "light"
     },
     "output_type": "display_data"
    }
   ],
   "source": [
    "petal_width_hist = petal_width.hist()"
   ]
  },
  {
   "cell_type": "markdown",
   "id": "03355661",
   "metadata": {},
   "source": [
    "Box Plots: To further understand the data, create a boxplot for each feature in the dataset. Present all the boxplots into a single plot. Recall that a boxplot provides a graphical repre- sentation of the location and variation of the data through their quartiles; they are especially useful for comparing distributions and identifying outliers."
   ]
  },
  {
   "cell_type": "code",
   "execution_count": 34,
   "id": "e8902c76",
   "metadata": {},
   "outputs": [
    {
     "data": {
      "image/png": "[encoded data removed]",
      "text/plain": [
       "<Figure size 432x288 with 1 Axes>"
      ]
     },
     "metadata": {
      "needs_background": "light"
     },
     "output_type": "display_data"
    }
   ],
   "source": [
    "box = iris_data.boxplot(grid = False, return_type = 'axes')"
   ]
  },
  {
   "cell_type": "markdown",
   "id": "7d7d56b1",
   "metadata": {},
   "source": [
    "Pairwise Plot: To understand the relationship between the features, create a scatter plot for each pair of the features. If there are are n features in the dataset, there should be nC2 plots."
   ]
  },
  {
   "cell_type": "code",
   "execution_count": 35,
   "id": "25c82081",
   "metadata": {},
   "outputs": [],
   "source": [
    "import matplotlib.pyplot as plt"
   ]
  },
  {
   "cell_type": "markdown",
   "id": "8cd1de6c",
   "metadata": {},
   "source": [
    "plot of sepal length and sepal width"
   ]
  },
  {
   "cell_type": "code",
   "execution_count": 37,
   "id": "bb8f282b",
   "metadata": {},
   "outputs": [
    {
     "data": {
      "image/png": "[encoded data removed]",
      "text/plain": [
       "<Figure size 432x288 with 1 Axes>"
      ]
     },
     "metadata": {
      "needs_background": "light"
     },
     "output_type": "display_data"
    }
   ],
   "source": [
    "sepal_length_sepal_width_plot = plt.scatter(iris_data[0], iris_data[1])"
   ]
  },
  {
   "cell_type": "markdown",
   "id": "cef2fb40",
   "metadata": {},
   "source": [
    "plot of sepal length and petal length"
   ]
  },
  {
   "cell_type": "code",
   "execution_count": 38,
   "id": "316db385",
   "metadata": {},
   "outputs": [
    {
     "data": {
      "image/png": "[encoded data removed]",
      "text/plain": [
       "<Figure size 432x288 with 1 Axes>"
      ]
     },
     "metadata": {
      "needs_background": "light"
     },
     "output_type": "display_data"
    }
   ],
   "source": [
    "sepal_length_petal_length_plot = plt.scatter(iris_data[0], iris_data[2])"
   ]
  },
  {
   "cell_type": "markdown",
   "id": "ee66f602",
   "metadata": {},
   "source": [
    "plot of sepal length and petal width"
   ]
  },
  {
   "cell_type": "code",
   "execution_count": 39,
   "id": "29e1ae30",
   "metadata": {},
   "outputs": [
    {
     "data": {
      "image/png": "[encoded data removed]",
      "text/plain": [
       "<Figure size 432x288 with 1 Axes>"
      ]
     },
     "metadata": {
      "needs_background": "light"
     },
     "output_type": "display_data"
    }
   ],
   "source": [
    "sepal_length_petal_width_plot = plt.scatter(iris_data[0], iris_data[3])"
   ]
  },
  {
   "cell_type": "markdown",
   "id": "777c76dd",
   "metadata": {},
   "source": [
    "plot of sepal width and petal length"
   ]
  },
  {
   "cell_type": "code",
   "execution_count": 40,
   "id": "ef201b78",
   "metadata": {},
   "outputs": [
    {
     "data": {
      "image/png": "[encoded data removed]",
      "text/plain": [
       "<Figure size 432x288 with 1 Axes>"
      ]
     },
     "metadata": {
      "needs_background": "light"
     },
     "output_type": "display_data"
    }
   ],
   "source": [
    "sepal_width_petal_length_plot = plt.scatter(iris_data[1], iris_data[2])"
   ]
  },
  {
   "cell_type": "markdown",
   "id": "7ef261ea",
   "metadata": {},
   "source": [
    "plot of sepal width and petal width"
   ]
  },
  {
   "cell_type": "code",
   "execution_count": 55,
   "id": "ac8704fe",
   "metadata": {},
   "outputs": [
    {
     "data": {
      "image/png": "[encoded data removed]",
      "text/plain": [
       "<Figure size 432x288 with 1 Axes>"
      ]
     },
     "metadata": {
      "needs_background": "light"
     },
     "output_type": "display_data"
    }
   ],
   "source": [
    "sepal_width_petal_width_plot = plt.scatter(iris_data[1], iris_data[3])"
   ]
  },
  {
   "cell_type": "markdown",
   "id": "8182bd3c",
   "metadata": {},
   "source": [
    "plot of petal length and petal width"
   ]
  },
  {
   "cell_type": "code",
   "execution_count": 54,
   "id": "542ea93e",
   "metadata": {},
   "outputs": [
    {
     "data": {
      "image/png": "[encoded data removed]",
      "text/plain": [
       "<Figure size 432x288 with 1 Axes>"
      ]
     },
     "metadata": {
      "needs_background": "light"
     },
     "output_type": "display_data"
    }
   ],
   "source": [
    "petal_length_petal_width_plot = plt.scatter(iris_data[2], iris_data[3])"
   ]
  },
  {
   "cell_type": "markdown",
   "id": "4ed4a055",
   "metadata": {},
   "source": [
    "Class-wise Visualization: Create histograms for each feature in a similar way for each of the different classes present in the data."
   ]
  },
  {
   "cell_type": "markdown",
   "id": "f4c2f8db",
   "metadata": {},
   "source": [
    "features histogram for whole dataset"
   ]
  },
  {
   "cell_type": "code",
   "execution_count": 46,
   "id": "a73f6778",
   "metadata": {},
   "outputs": [
    {
     "data": {
      "image/png": "[encoded data removed]",
      "text/plain": [
       "<Figure size 432x288 with 1 Axes>"
      ]
     },
     "metadata": {
      "needs_background": "light"
     },
     "output_type": "display_data"
    }
   ],
   "source": [
    "sepal_length_hist = sepal_length.hist()\n",
    "sepal_width_hist = sepal_width.hist()\n",
    "petal_length_hist = petal_length.hist()\n",
    "petal_width_hist = petal_width.hist()\n",
    "setosa_hist = plt.legend([\"sepal length\", \"sepal width\", \"petal length\",\"petal width\"])"
   ]
  },
  {
   "cell_type": "markdown",
   "id": "e6434df6",
   "metadata": {},
   "source": [
    "features histogram for setosa"
   ]
  },
  {
   "cell_type": "code",
   "execution_count": 50,
   "id": "032dbf2a",
   "metadata": {},
   "outputs": [
    {
     "data": {
      "image/png": "[encoded data removed]",
      "text/plain": [
       "<Figure size 432x288 with 1 Axes>"
      ]
     },
     "metadata": {
      "needs_background": "light"
     },
     "output_type": "display_data"
    }
   ],
   "source": [
    "sepal_length_setosa_hist = iris_data[iris_data[4] == \"Iris-setosa\"][0].hist()\n",
    "sepal_width_setosa_hist = iris_data[iris_data[4] == \"Iris-setosa\"][1].hist()\n",
    "petal_length_setosa_hist = iris_data[iris_data[4] == \"Iris-setosa\"][2].hist()\n",
    "petal_width_setosa_hist = iris_data[iris_data[4] == \"Iris-setosa\"][3].hist()\n",
    "setosa_hist = plt.legend([\"sepal length\", \"sepal width\", \"petal length\",\"petal width\"])"
   ]
  },
  {
   "cell_type": "markdown",
   "id": "2c296969",
   "metadata": {},
   "source": [
    "features histogram for versicolor"
   ]
  },
  {
   "cell_type": "code",
   "execution_count": 51,
   "id": "2d06b7d6",
   "metadata": {},
   "outputs": [
    {
     "data": {
      "image/png": "[encoded data removed]",
      "text/plain": [
       "<Figure size 432x288 with 1 Axes>"
      ]
     },
     "metadata": {
      "needs_background": "light"
     },
     "output_type": "display_data"
    }
   ],
   "source": [
    "sepal_length_versicolor_hist = iris_data[iris_data[4] == \"Iris-versicolor\"][0].hist()\n",
    "sepal_width_versicolor_hist = iris_data[iris_data[4] == \"Iris-versicolor\"][1].hist()\n",
    "petal_length_versicolor_hist = iris_data[iris_data[4] == \"Iris-versicolor\"][2].hist()\n",
    "petal_width_versicolor_hist = iris_data[iris_data[4] == \"Iris-versicolor\"][3].hist()\n",
    "versicolor_hist = plt.legend([\"sepal length\", \"sepal width\", \"petal length\",\"petal width\"])"
   ]
  },
  {
   "cell_type": "markdown",
   "id": "143b8e9a",
   "metadata": {},
   "source": [
    "features histogram for virginica"
   ]
  },
  {
   "cell_type": "code",
   "execution_count": 53,
   "id": "636a0dea",
   "metadata": {},
   "outputs": [
    {
     "data": {
      "image/png": "[encoded data removed]",
      "text/plain": [
       "<Figure size 432x288 with 1 Axes>"
      ]
     },
     "metadata": {
      "needs_background": "light"
     },
     "output_type": "display_data"
    }
   ],
   "source": [
    "sepal_length_virginica_hist = iris_data[iris_data[4] == \"Iris-virginica\"][0].hist()\n",
    "sepal_width_virginica_hist = iris_data[iris_data[4] == \"Iris-virginica\"][1].hist()\n",
    "petal_length_virginica_hist = iris_data[iris_data[4] == \"Iris-virginica\"][2].hist()\n",
    "petal_width_virginica_hist = iris_data[iris_data[4 ]== \"Iris-virginica\"][3].hist()\n",
    "virginica_hist = plt.legend([\"sepal length\", \"sepal width\", \"petal length\",\"petal width\"])"
   ]
  },
  {
   "cell_type": "markdown",
   "id": "a4c9f52a",
   "metadata": {},
   "source": [
    "1.3 Conceptual Questions [25 Points]\n",
    "Answer the following questions about the analysis you just performed. Include the answers to these questions as text content (using markdown or text cells on Jupyter notebook) in the same notebook file used for visualization.\n"
   ]
  },
  {
   "cell_type": "markdown",
   "id": "4c95dd80",
   "metadata": {},
   "source": [
    "1. How many features are there? What are the Types of the features (e.g., numeric, nominal, discrete, continuous)?\n",
    "\n",
    "Answer: There are four features. They are continuous numeric."
   ]
  },
  {
   "cell_type": "markdown",
   "id": "5eb2dd58",
   "metadata": {},
   "source": [
    "2. From the histograms of the whole data, how do the shapes of the histograms for petal length and petal width differ from those for sepal length and sepal width? Is there a particular value of petal length (which ranges from 1.0 to 6.9) where the distribution of petal lengths (as illustrated by the histogram) could be best segmented into two parts?\n",
    "\n",
    "Answer: Histograms for petal length and petal width are like continuous mountain, while those for sepal length and sepal width are like V shape. The bottom of the V shape for petal length, which is between 2 and 3, could be a good point we segment the petal lengths into two parts."
   ]
  },
  {
   "cell_type": "markdown",
   "id": "75e1efa6",
   "metadata": {},
   "source": [
    "3. Based upon these boxplots, is there a pair of features that appear to have significantly different medians? Recall that the degree of overlap between variability is an important initial indicator of the likelihood that differences in means or medians are meaningful. Also, based solely upon the box plots, which feature appears to explain the greatest amount of the data?\n",
    "\n",
    "Answer: Sepal length and petal width appear to have significantly different medians. Petal length explains the greatest amount of the data."
   ]
  },
  {
   "cell_type": "markdown",
   "id": "b4fc2184",
   "metadata": {},
   "source": [
    "4. From the pairwise plots of the features, which features are most correlated from the plots? Mention at least three pairs.\n",
    "\n",
    "Answer: Sepal length and petal length, sepal length and petal width, petal length and petal width."
   ]
  },
  {
   "cell_type": "markdown",
   "id": "f34a31a3",
   "metadata": {},
   "source": [
    "5. Compare the histograms of each class to the histograms of the whole dataset. What differences do you see in the shapes?\n",
    "\n",
    "Answer: Features of Iris-virginica and Iris-setosa are roughly distributed within the same range, while petal width feature of Iris-setosa(red color) has an outlier. Petal length of the whole dataset distributes in a wide range, while for each class, petal length distributes in their own range, together making up the wide range of the whole dataset. Overral, the ceiling size of Iris-setosa is smallest(smallest), then Iris-versicolor(middle), then Iris-virginica(biggest)."
   ]
  },
  {
   "cell_type": "markdown",
   "id": "8eb090fc",
   "metadata": {},
   "source": [
    "### Air Quality Dataset [40 Points]\n"
   ]
  },
  {
   "cell_type": "code",
   "execution_count": 62,
   "id": "7ba58126",
   "metadata": {},
   "outputs": [
    {
     "data": {
      "text/html": [
       "<div>\n",
       "<style scoped>\n",
       "    .dataframe tbody tr th:only-of-type {\n",
       "        vertical-align: middle;\n",
       "    }\n",
       "\n",
       "    .dataframe tbody tr th {\n",
       "        vertical-align: top;\n",
       "    }\n",
       "\n",
       "    .dataframe thead th {\n",
       "        text-align: right;\n",
       "    }\n",
       "</style>\n",
       "<table border=\"1\" class=\"dataframe\">\n",
       "  <thead>\n",
       "    <tr style=\"text-align: right;\">\n",
       "      <th></th>\n",
       "      <th>Date</th>\n",
       "      <th>Time</th>\n",
       "      <th>CO(GT)</th>\n",
       "      <th>PT08.S1(CO)</th>\n",
       "      <th>NMHC(GT)</th>\n",
       "      <th>C6H6(GT)</th>\n",
       "      <th>PT08.S2(NMHC)</th>\n",
       "      <th>NOx(GT)</th>\n",
       "      <th>PT08.S3(NOx)</th>\n",
       "      <th>NO2(GT)</th>\n",
       "      <th>PT08.S4(NO2)</th>\n",
       "      <th>PT08.S5(O3)</th>\n",
       "      <th>T</th>\n",
       "      <th>RH</th>\n",
       "      <th>AH</th>\n",
       "    </tr>\n",
       "  </thead>\n",
       "  <tbody>\n",
       "    <tr>\n",
       "      <th>0</th>\n",
       "      <td>2004-03-10</td>\n",
       "      <td>18:00:00</td>\n",
       "      <td>2.6</td>\n",
       "      <td>1360.00</td>\n",
       "      <td>150</td>\n",
       "      <td>11.881723</td>\n",
       "      <td>1045.50</td>\n",
       "      <td>166.0</td>\n",
       "      <td>1056.25</td>\n",
       "      <td>113.0</td>\n",
       "      <td>1692.00</td>\n",
       "      <td>1267.50</td>\n",
       "      <td>13.600</td>\n",
       "      <td>48.875001</td>\n",
       "      <td>0.757754</td>\n",
       "    </tr>\n",
       "    <tr>\n",
       "      <th>1</th>\n",
       "      <td>2004-03-10</td>\n",
       "      <td>19:00:00</td>\n",
       "      <td>2.0</td>\n",
       "      <td>1292.25</td>\n",
       "      <td>112</td>\n",
       "      <td>9.397165</td>\n",
       "      <td>954.75</td>\n",
       "      <td>103.0</td>\n",
       "      <td>1173.75</td>\n",
       "      <td>92.0</td>\n",
       "      <td>1558.75</td>\n",
       "      <td>972.25</td>\n",
       "      <td>13.300</td>\n",
       "      <td>47.700000</td>\n",
       "      <td>0.725487</td>\n",
       "    </tr>\n",
       "    <tr>\n",
       "      <th>2</th>\n",
       "      <td>2004-03-10</td>\n",
       "      <td>20:00:00</td>\n",
       "      <td>2.2</td>\n",
       "      <td>1402.00</td>\n",
       "      <td>88</td>\n",
       "      <td>8.997817</td>\n",
       "      <td>939.25</td>\n",
       "      <td>131.0</td>\n",
       "      <td>1140.00</td>\n",
       "      <td>114.0</td>\n",
       "      <td>1554.50</td>\n",
       "      <td>1074.00</td>\n",
       "      <td>11.900</td>\n",
       "      <td>53.975000</td>\n",
       "      <td>0.750239</td>\n",
       "    </tr>\n",
       "    <tr>\n",
       "      <th>3</th>\n",
       "      <td>2004-03-10</td>\n",
       "      <td>21:00:00</td>\n",
       "      <td>2.2</td>\n",
       "      <td>1375.50</td>\n",
       "      <td>80</td>\n",
       "      <td>9.228796</td>\n",
       "      <td>948.25</td>\n",
       "      <td>172.0</td>\n",
       "      <td>1092.00</td>\n",
       "      <td>122.0</td>\n",
       "      <td>1583.75</td>\n",
       "      <td>1203.25</td>\n",
       "      <td>11.000</td>\n",
       "      <td>60.000000</td>\n",
       "      <td>0.786713</td>\n",
       "    </tr>\n",
       "    <tr>\n",
       "      <th>4</th>\n",
       "      <td>2004-03-10</td>\n",
       "      <td>22:00:00</td>\n",
       "      <td>1.6</td>\n",
       "      <td>1272.25</td>\n",
       "      <td>51</td>\n",
       "      <td>6.518224</td>\n",
       "      <td>835.50</td>\n",
       "      <td>131.0</td>\n",
       "      <td>1205.00</td>\n",
       "      <td>116.0</td>\n",
       "      <td>1490.00</td>\n",
       "      <td>1110.00</td>\n",
       "      <td>11.150</td>\n",
       "      <td>59.575001</td>\n",
       "      <td>0.788794</td>\n",
       "    </tr>\n",
       "    <tr>\n",
       "      <th>...</th>\n",
       "      <td>...</td>\n",
       "      <td>...</td>\n",
       "      <td>...</td>\n",
       "      <td>...</td>\n",
       "      <td>...</td>\n",
       "      <td>...</td>\n",
       "      <td>...</td>\n",
       "      <td>...</td>\n",
       "      <td>...</td>\n",
       "      <td>...</td>\n",
       "      <td>...</td>\n",
       "      <td>...</td>\n",
       "      <td>...</td>\n",
       "      <td>...</td>\n",
       "      <td>...</td>\n",
       "    </tr>\n",
       "    <tr>\n",
       "      <th>9352</th>\n",
       "      <td>2005-04-04</td>\n",
       "      <td>10:00:00</td>\n",
       "      <td>3.1</td>\n",
       "      <td>1314.25</td>\n",
       "      <td>-200</td>\n",
       "      <td>13.529605</td>\n",
       "      <td>1101.25</td>\n",
       "      <td>471.7</td>\n",
       "      <td>538.50</td>\n",
       "      <td>189.8</td>\n",
       "      <td>1374.25</td>\n",
       "      <td>1728.50</td>\n",
       "      <td>21.850</td>\n",
       "      <td>29.250000</td>\n",
       "      <td>0.756824</td>\n",
       "    </tr>\n",
       "    <tr>\n",
       "      <th>9353</th>\n",
       "      <td>2005-04-04</td>\n",
       "      <td>11:00:00</td>\n",
       "      <td>2.4</td>\n",
       "      <td>1162.50</td>\n",
       "      <td>-200</td>\n",
       "      <td>11.355157</td>\n",
       "      <td>1027.00</td>\n",
       "      <td>353.3</td>\n",
       "      <td>603.75</td>\n",
       "      <td>179.2</td>\n",
       "      <td>1263.50</td>\n",
       "      <td>1269.00</td>\n",
       "      <td>24.325</td>\n",
       "      <td>23.725000</td>\n",
       "      <td>0.711864</td>\n",
       "    </tr>\n",
       "    <tr>\n",
       "      <th>9354</th>\n",
       "      <td>2005-04-04</td>\n",
       "      <td>12:00:00</td>\n",
       "      <td>2.4</td>\n",
       "      <td>1142.00</td>\n",
       "      <td>-200</td>\n",
       "      <td>12.374538</td>\n",
       "      <td>1062.50</td>\n",
       "      <td>293.0</td>\n",
       "      <td>603.25</td>\n",
       "      <td>174.7</td>\n",
       "      <td>1240.75</td>\n",
       "      <td>1092.00</td>\n",
       "      <td>26.900</td>\n",
       "      <td>18.350000</td>\n",
       "      <td>0.640649</td>\n",
       "    </tr>\n",
       "    <tr>\n",
       "      <th>9355</th>\n",
       "      <td>2005-04-04</td>\n",
       "      <td>13:00:00</td>\n",
       "      <td>2.1</td>\n",
       "      <td>1002.50</td>\n",
       "      <td>-200</td>\n",
       "      <td>9.547187</td>\n",
       "      <td>960.50</td>\n",
       "      <td>234.5</td>\n",
       "      <td>701.50</td>\n",
       "      <td>155.7</td>\n",
       "      <td>1041.00</td>\n",
       "      <td>769.75</td>\n",
       "      <td>28.325</td>\n",
       "      <td>13.550000</td>\n",
       "      <td>0.513866</td>\n",
       "    </tr>\n",
       "    <tr>\n",
       "      <th>9356</th>\n",
       "      <td>2005-04-04</td>\n",
       "      <td>14:00:00</td>\n",
       "      <td>2.2</td>\n",
       "      <td>1070.75</td>\n",
       "      <td>-200</td>\n",
       "      <td>11.932060</td>\n",
       "      <td>1047.25</td>\n",
       "      <td>265.2</td>\n",
       "      <td>654.00</td>\n",
       "      <td>167.7</td>\n",
       "      <td>1128.50</td>\n",
       "      <td>816.00</td>\n",
       "      <td>28.500</td>\n",
       "      <td>13.125000</td>\n",
       "      <td>0.502804</td>\n",
       "    </tr>\n",
       "  </tbody>\n",
       "</table>\n",
       "<p>9357 rows × 15 columns</p>\n",
       "</div>"
      ],
      "text/plain": [
       "           Date      Time  CO(GT)  PT08.S1(CO)  NMHC(GT)   C6H6(GT)  \\\n",
       "0    2004-03-10  18:00:00     2.6      1360.00       150  11.881723   \n",
       "1    2004-03-10  19:00:00     2.0      1292.25       112   9.397165   \n",
       "2    2004-03-10  20:00:00     2.2      1402.00        88   8.997817   \n",
       "3    2004-03-10  21:00:00     2.2      1375.50        80   9.228796   \n",
       "4    2004-03-10  22:00:00     1.6      1272.25        51   6.518224   \n",
       "...         ...       ...     ...          ...       ...        ...   \n",
       "9352 2005-04-04  10:00:00     3.1      1314.25      -200  13.529605   \n",
       "9353 2005-04-04  11:00:00     2.4      1162.50      -200  11.355157   \n",
       "9354 2005-04-04  12:00:00     2.4      1142.00      -200  12.374538   \n",
       "9355 2005-04-04  13:00:00     2.1      1002.50      -200   9.547187   \n",
       "9356 2005-04-04  14:00:00     2.2      1070.75      -200  11.932060   \n",
       "\n",
       "      PT08.S2(NMHC)  NOx(GT)  PT08.S3(NOx)  NO2(GT)  PT08.S4(NO2)  \\\n",
       "0           1045.50    166.0       1056.25    113.0       1692.00   \n",
       "1            954.75    103.0       1173.75     92.0       1558.75   \n",
       "2            939.25    131.0       1140.00    114.0       1554.50   \n",
       "3            948.25    172.0       1092.00    122.0       1583.75   \n",
       "4            835.50    131.0       1205.00    116.0       1490.00   \n",
       "...             ...      ...           ...      ...           ...   \n",
       "9352        1101.25    471.7        538.50    189.8       1374.25   \n",
       "9353        1027.00    353.3        603.75    179.2       1263.50   \n",
       "9354        1062.50    293.0        603.25    174.7       1240.75   \n",
       "9355         960.50    234.5        701.50    155.7       1041.00   \n",
       "9356        1047.25    265.2        654.00    167.7       1128.50   \n",
       "\n",
       "      PT08.S5(O3)       T         RH        AH  \n",
       "0         1267.50  13.600  48.875001  0.757754  \n",
       "1          972.25  13.300  47.700000  0.725487  \n",
       "2         1074.00  11.900  53.975000  0.750239  \n",
       "3         1203.25  11.000  60.000000  0.786713  \n",
       "4         1110.00  11.150  59.575001  0.788794  \n",
       "...           ...     ...        ...       ...  \n",
       "9352      1728.50  21.850  29.250000  0.756824  \n",
       "9353      1269.00  24.325  23.725000  0.711864  \n",
       "9354      1092.00  26.900  18.350000  0.640649  \n",
       "9355       769.75  28.325  13.550000  0.513866  \n",
       "9356       816.00  28.500  13.125000  0.502804  \n",
       "\n",
       "[9357 rows x 15 columns]"
      ]
     },
     "execution_count": 62,
     "metadata": {},
     "output_type": "execute_result"
    }
   ],
   "source": [
    "air_quality_data = pd.read_excel('AirQualityUCI/AirQualityUCI.xlsx')\n",
    "air_quality_data"
   ]
  },
  {
   "cell_type": "markdown",
   "id": "0be05c1b",
   "metadata": {},
   "source": [
    "2.1 Summary Statistics [5 Points]\n",
    "\n",
    "As in Section 1, Compute and display summary statistics for each feature available in the dataset. These must include the minimum value, maximum value, mean, range, standard deviation, variance, count, and 25:50:75% percentiles.\n"
   ]
  },
  {
   "cell_type": "code",
   "execution_count": 79,
   "id": "8ccd44d1",
   "metadata": {},
   "outputs": [
    {
     "name": "stdout",
     "output_type": "stream",
     "text": [
      "count    9357.000000\n",
      "mean      -34.207524\n",
      "std        77.657170\n",
      "min      -200.000000\n",
      "25%         0.600000\n",
      "50%         1.500000\n",
      "75%         2.600000\n",
      "max        11.900000\n",
      "Name: CO(GT), dtype: float64 \n",
      " range: 211.9 \n",
      " variance: 6030.636106276823 \n",
      " standard: 77.6571703468316\n"
     ]
    }
   ],
   "source": [
    "CO = air_quality_data[\"CO(GT)\"]\n",
    "print(CO.describe(),\"\\n\",'range:', np.ptp(CO), \"\\n\",'variance:',CO.var(), \"\\n\",'standard:',CO.std())"
   ]
  },
  {
   "cell_type": "code",
   "execution_count": 83,
   "id": "aa5902be",
   "metadata": {},
   "outputs": [
    {
     "name": "stdout",
     "output_type": "stream",
     "text": [
      "count    9357.000000\n",
      "mean     1048.869652\n",
      "std       329.817015\n",
      "min      -200.000000\n",
      "25%       921.000000\n",
      "50%      1052.500000\n",
      "75%      1221.250000\n",
      "max      2039.750000\n",
      "Name: PT08.S1(CO), dtype: float64 \n",
      " range: 2239.75 \n",
      " variance: 108779.26309521518 \n",
      " standard: 329.817014562947\n"
     ]
    }
   ],
   "source": [
    "PT08_S1 = air_quality_data[\"PT08.S1(CO)\"]\n",
    "print(PT08_S1.describe(),\"\\n\",'range:', np.ptp(PT08_S1), \"\\n\",'variance:',PT08_S1.var(), \"\\n\",'standard:', PT08_S1.std())"
   ]
  },
  {
   "cell_type": "code",
   "execution_count": 84,
   "id": "6adec7c8",
   "metadata": {},
   "outputs": [
    {
     "name": "stdout",
     "output_type": "stream",
     "text": [
      "count    9357.000000\n",
      "mean     -159.090093\n",
      "std       139.789093\n",
      "min      -200.000000\n",
      "25%      -200.000000\n",
      "50%      -200.000000\n",
      "75%      -200.000000\n",
      "max      1189.000000\n",
      "Name: NMHC(GT), dtype: float64 \n",
      " range: 1389 \n",
      " variance: 19540.99049290499 \n",
      " standard: 139.78909289678145\n"
     ]
    }
   ],
   "source": [
    "NMHC = air_quality_data[\"NMHC(GT)\"]\n",
    "print(NMHC.describe(),\"\\n\",'range:', np.ptp(NMHC), \"\\n\",'variance:',NMHC.var(),\"\\n\",'standard:', NMHC.std())"
   ]
  },
  {
   "cell_type": "code",
   "execution_count": 85,
   "id": "72d3cfc1",
   "metadata": {},
   "outputs": [
    {
     "name": "stdout",
     "output_type": "stream",
     "text": [
      "count    9357.000000\n",
      "mean        1.865576\n",
      "std        41.380154\n",
      "min      -200.000000\n",
      "25%         4.004958\n",
      "50%         7.886653\n",
      "75%        13.636091\n",
      "max        63.741476\n",
      "Name: C6H6(GT), dtype: float64 \n",
      " range: 263.7414764482916 \n",
      " variance: 1712.317143218122 \n",
      " standard: 41.38015397769953\n"
     ]
    }
   ],
   "source": [
    "C6H6 = air_quality_data[\"C6H6(GT)\"]\n",
    "print(C6H6.describe(),\"\\n\",'range:', np.ptp(C6H6), \"\\n\",'variance:',C6H6.var(), \"\\n\",'standard:', C6H6.std())"
   ]
  },
  {
   "cell_type": "code",
   "execution_count": 86,
   "id": "f349b18b",
   "metadata": {},
   "outputs": [
    {
     "name": "stdout",
     "output_type": "stream",
     "text": [
      "count    9357.000000\n",
      "mean      894.475963\n",
      "std       342.315902\n",
      "min      -200.000000\n",
      "25%       711.000000\n",
      "50%       894.500000\n",
      "75%      1104.750000\n",
      "max      2214.000000\n",
      "Name: PT08.S2(NMHC), dtype: float64 \n",
      " range: 2414.0 \n",
      " variance: 117180.17665318836 \n",
      " standard: 342.31590184095796\n"
     ]
    }
   ],
   "source": [
    "PT08_S2 = air_quality_data[\"PT08.S2(NMHC)\"]\n",
    "print(PT08_S2.describe(),\"\\n\",'range:', np.ptp(PT08_S2), \"\\n\",'variance:',PT08_S2.var(), \"\\n\",'standard:',PT08_S2.std())"
   ]
  },
  {
   "cell_type": "code",
   "execution_count": 88,
   "id": "e3303dcc",
   "metadata": {},
   "outputs": [
    {
     "name": "stdout",
     "output_type": "stream",
     "text": [
      "count    9357.000000\n",
      "mean      168.604200\n",
      "std       257.424561\n",
      "min      -200.000000\n",
      "25%        50.000000\n",
      "50%       141.000000\n",
      "75%       284.200000\n",
      "max      1479.000000\n",
      "Name: NOx(GT), dtype: float64 \n",
      " range: 1679.0 \n",
      " variance: 66267.40479317415 \n",
      " standard: 257.4245613634685\n"
     ]
    }
   ],
   "source": [
    "NOx = air_quality_data[\"NOx(GT)\"]\n",
    "print(NOx.describe(),\"\\n\",'range:', np.ptp(NOx), \"\\n\",'variance:',NOx.var(), \"\\n\", 'standard:', NOx.std())"
   ]
  },
  {
   "cell_type": "code",
   "execution_count": 90,
   "id": "64f8dbc2",
   "metadata": {},
   "outputs": [
    {
     "name": "stdout",
     "output_type": "stream",
     "text": [
      "count    9357.000000\n",
      "mean      794.872333\n",
      "std       321.977031\n",
      "min      -200.000000\n",
      "25%       637.000000\n",
      "50%       794.250000\n",
      "75%       960.250000\n",
      "max      2682.750000\n",
      "Name: PT08.S3(NOx), dtype: float64 \n",
      " range: 2882.75 \n",
      " variance: 103669.20871905099 \n",
      " standard: 321.97703135324883\n"
     ]
    }
   ],
   "source": [
    "PT08_S3 = air_quality_data[\"PT08.S3(NOx)\"]\n",
    "print(PT08_S3.describe(),\"\\n\",'range:', np.ptp(PT08_S3), \"\\n\",'variance:',PT08_S3.var(), \"\\n\", 'standard:', PT08_S3.std())"
   ]
  },
  {
   "cell_type": "code",
   "execution_count": 91,
   "id": "672b0705",
   "metadata": {},
   "outputs": [
    {
     "name": "stdout",
     "output_type": "stream",
     "text": [
      "count    9357.000000\n",
      "mean       58.135898\n",
      "std       126.931428\n",
      "min      -200.000000\n",
      "25%        53.000000\n",
      "50%        96.000000\n",
      "75%       133.000000\n",
      "max       339.700000\n",
      "Name: NO2(GT), dtype: float64 \n",
      " range: 539.7 \n",
      " variance: 16111.58746171175 \n",
      " standard: 126.93142818747353\n"
     ]
    }
   ],
   "source": [
    "NO_2 = air_quality_data[\"NO2(GT)\"]\n",
    "print(NO_2.describe(),\"\\n\",'range:', np.ptp(NO_2), \"\\n\",'variance:',NO_2.var(), \"\\n\", 'standard:', NO_2.std())"
   ]
  },
  {
   "cell_type": "code",
   "execution_count": 92,
   "id": "c5230a2c",
   "metadata": {},
   "outputs": [
    {
     "name": "stdout",
     "output_type": "stream",
     "text": [
      "count    9357.000000\n",
      "mean     1391.363266\n",
      "std       467.192382\n",
      "min      -200.000000\n",
      "25%      1184.750000\n",
      "50%      1445.500000\n",
      "75%      1662.000000\n",
      "max      2775.000000\n",
      "Name: PT08.S4(NO2), dtype: float64 \n",
      " range: 2975.0 \n",
      " variance: 218268.72172917935 \n",
      " standard: 467.1923819254541\n"
     ]
    }
   ],
   "source": [
    "PT08_S4 = air_quality_data[\"PT08.S4(NO2)\"]\n",
    "print(PT08_S4.describe(),\"\\n\",'range:', np.ptp(PT08_S4), \"\\n\",'variance:',PT08_S4.var(), \"\\n\", 'standard:', PT08_S4.std())"
   ]
  },
  {
   "cell_type": "code",
   "execution_count": 93,
   "id": "bab6abe7",
   "metadata": {},
   "outputs": [
    {
     "name": "stdout",
     "output_type": "stream",
     "text": [
      "count    9357.000000\n",
      "mean      974.951534\n",
      "std       456.922728\n",
      "min      -200.000000\n",
      "25%       699.750000\n",
      "50%       942.000000\n",
      "75%      1255.250000\n",
      "max      2522.750000\n",
      "Name: PT08.S5(O3), dtype: float64 \n",
      " range: 2722.75 \n",
      " variance: 208778.37916470043 \n",
      " standard: 456.9227277830469\n"
     ]
    }
   ],
   "source": [
    "PT08_S5 = air_quality_data[\"PT08.S5(O3)\"]\n",
    "print(PT08_S5.describe(),\"\\n\",'range:', np.ptp(PT08_S5), \"\\n\",'variance:',PT08_S5.var(), \"\\n\", 'standard:', PT08_S5.std())"
   ]
  },
  {
   "cell_type": "code",
   "execution_count": 97,
   "id": "81d95ec2",
   "metadata": {},
   "outputs": [
    {
     "name": "stdout",
     "output_type": "stream",
     "text": [
      "count    9357.000000\n",
      "mean        9.776600\n",
      "std        43.203438\n",
      "min      -200.000000\n",
      "25%        10.950000\n",
      "50%        17.200000\n",
      "75%        24.075000\n",
      "max        44.600000\n",
      "Name: T, dtype: float64 \n",
      " range: 244.60000038147 \n",
      " variance: 1866.5370236018796 \n",
      " standard: 43.20343763639509\n"
     ]
    }
   ],
   "source": [
    "T = air_quality_data[\"T\"]\n",
    "print(T.describe(),\"\\n\",'range:', np.ptp(T), \"\\n\",'variance:',T.var(), \"\\n\", 'standard:', T.std())"
   ]
  },
  {
   "cell_type": "code",
   "execution_count": 98,
   "id": "7d60ef4e",
   "metadata": {},
   "outputs": [
    {
     "name": "stdout",
     "output_type": "stream",
     "text": [
      "count    9357.000000\n",
      "mean       39.483611\n",
      "std        51.215645\n",
      "min      -200.000000\n",
      "25%        34.050000\n",
      "50%        48.550000\n",
      "75%        61.875000\n",
      "max        88.725000\n",
      "Name: RH, dtype: float64 \n",
      " range: 288.72500038147 \n",
      " variance: 2623.042272805839 \n",
      " standard: 51.21564480513585\n"
     ]
    }
   ],
   "source": [
    "RH = air_quality_data[\"RH\"]\n",
    "print(RH.describe(),\"\\n\",'range:', np.ptp(RH), \"\\n\",'variance:',RH.var(), \"\\n\", 'standard:', RH.std())"
   ]
  },
  {
   "cell_type": "code",
   "execution_count": 99,
   "id": "f643dcc0",
   "metadata": {},
   "outputs": [
    {
     "name": "stdout",
     "output_type": "stream",
     "text": [
      "count    9357.000000\n",
      "mean       -6.837604\n",
      "std        38.976670\n",
      "min      -200.000000\n",
      "25%         0.692275\n",
      "50%         0.976823\n",
      "75%         1.296223\n",
      "max         2.231036\n",
      "Name: AH, dtype: float64 \n",
      " range: 202.23103571558318 \n",
      " variance: 1519.1808166108053 \n",
      " standard: 38.976670158067705\n"
     ]
    }
   ],
   "source": [
    "AH = air_quality_data[\"AH\"]\n",
    "print(AH.describe(),\"\\n\",'range:', np.ptp(AH), \"\\n\",'variance:',AH.var(), \"\\n\", 'standard:', AH.std())"
   ]
  },
  {
   "cell_type": "markdown",
   "id": "d5036398",
   "metadata": {},
   "source": [
    "2.2 Data Visualization [15 Points]\n",
    "\n",
    "Also as in Section 1, create histograms and boxplots for the dataset with and without outliers. You may use showfliers=False to remove outliers from the boxplots.\n"
   ]
  },
  {
   "cell_type": "markdown",
   "id": "1a4d32bd",
   "metadata": {},
   "source": [
    "Histograms:"
   ]
  },
  {
   "cell_type": "code",
   "execution_count": 123,
   "id": "1bd66fda",
   "metadata": {},
   "outputs": [
    {
     "data": {
      "image/png": "[encoded data removed]",
      "text/plain": [
       "<Figure size 1440x2160 with 14 Axes>"
      ]
     },
     "metadata": {
      "needs_background": "light"
     },
     "output_type": "display_data"
    }
   ],
   "source": [
    "%matplotlib inline\n",
    "hist_plots = air_quality_data.hist(layout=[-1,2],figsize=[20, 30])"
   ]
  },
  {
   "cell_type": "markdown",
   "id": "82049f81",
   "metadata": {},
   "source": [
    "box"
   ]
  },
  {
   "cell_type": "code",
   "execution_count": 122,
   "id": "60b92f11",
   "metadata": {},
   "outputs": [
    {
     "data": {
      "image/png": "[encoded data removed]",
      "text/plain": [
       "<Figure size 1440x1080 with 1 Axes>"
      ]
     },
     "metadata": {
      "needs_background": "light"
     },
     "output_type": "display_data"
    }
   ],
   "source": [
    "box = air_quality_data.boxplot(return_type = 'axes',grid = False, showfliers = False, figsize = [20, 15])"
   ]
  },
  {
   "cell_type": "markdown",
   "id": "736c655b",
   "metadata": {},
   "source": [
    "2.3 Conceptual Questions [20 Points]\n",
    "\n",
    "Answer the following questions about the analysis you just performed. Include the answers to this questions as text content (using markdown or text cells on Jupyter notebook) in the same notebook file used for visualization."
   ]
  },
  {
   "cell_type": "markdown",
   "id": "1eaef41d",
   "metadata": {},
   "source": [
    "1. From the histograms, what abnormality can you see?\n",
    "\n",
    "Answer: In most of the histograms, there can be detected a gap, except for histogram of the date. Looking into the gap in each histogram, the gap resides in between -200(or -175) and 0. I don't think normal data should have this gap, and I guess it might be the situation that we use -200 to fill the missing data."
   ]
  },
  {
   "cell_type": "markdown",
   "id": "0233f90b",
   "metadata": {},
   "source": [
    "2. What abnormality can you see from the summary statistics?\n",
    "\n",
    "Answer: The above mentioned -200 value plays big impact on data accuracy. For example, in CO(GT) summery statistics, the mean is a negative and it is unrealistic. It must be too many -200 maked the mean below zero. Also for NMHC, most of data is -200, and this will not drive to reasonable induction.  So, if in a data analysis we are facing with too much missing data situation, the analysis becomes more difficult and less accurate."
   ]
  },
  {
   "cell_type": "markdown",
   "id": "df69999c",
   "metadata": {},
   "source": [
    "3. How can you remove the abnormality from the data?\n",
    "\n",
    "Answer: Filter out the negative values, since according to common sense, features in this dataset shall not be negative."
   ]
  },
  {
   "cell_type": "markdown",
   "id": "d88b5c1f",
   "metadata": {},
   "source": [
    "4. Show how the histograms look after removing the abnormalities from the data?\n",
    "Answer: "
   ]
  },
  {
   "cell_type": "code",
   "execution_count": 124,
   "id": "38ccfe92",
   "metadata": {},
   "outputs": [
    {
     "data": {
      "image/png": "[encoded data removed]",
      "text/plain": [
       "<Figure size 432x288 with 1 Axes>"
      ]
     },
     "metadata": {
      "needs_background": "light"
     },
     "output_type": "display_data"
    }
   ],
   "source": [
    "clean_CO_hist = CO[CO >= 0].hist()"
   ]
  },
  {
   "cell_type": "code",
   "execution_count": 126,
   "id": "37c13f56",
   "metadata": {},
   "outputs": [
    {
     "data": {
      "image/png": "[encoded data removed]",
      "text/plain": [
       "<Figure size 432x288 with 1 Axes>"
      ]
     },
     "metadata": {
      "needs_background": "light"
     },
     "output_type": "display_data"
    }
   ],
   "source": [
    "clean_NMHC_hist = NMHC[NMHC >= 0].hist()"
   ]
  }
 ],
 "metadata": {
  "kernelspec": {
   "display_name": "Python 3 (ipykernel)",
   "language": "python",
   "name": "python3"
  },
  "language_info": {
   "codemirror_mode": {
    "name": "ipython",
    "version": 3
   },
   "file_extension": ".py",
   "mimetype": "text/x-python",
   "name": "python",
   "nbconvert_exporter": "python",
   "pygments_lexer": "ipython3",
   "version": "3.9.1"
  }
 },
 "nbformat": 4,
 "nbformat_minor": 5
}
